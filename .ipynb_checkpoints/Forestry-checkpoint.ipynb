{
 "cells": [
  {
   "cell_type": "markdown",
   "metadata": {},
   "source": [
    "# Forest Inventory and Analysis `10 points`\n",
    "\n",
    "Source:\n",
    "\n",
    "* Dataset: https://apps.fs.usda.gov/fia/datamart/datamart.html\n",
    "* Documentation: https://www.fia.fs.fed.us/library/database-documentation/index.php\n",
    "        \n",
    "Description from [Data Is Plural](https://www.data-is-plural.com/archive/2019-08-21-edition/):\n",
    "\n",
    "> The U.S. Forest Service’s Forest Inventory and Analysis program tracks “trends in forest area and location; in the species, size, and health of trees; in total tree growth, mortality, and removals by harvest; in wood production and utilization rates by various products; and in forest land ownership.” It also “serves as perhaps the largest publicly available” dataset of “downed and dead wood.” The inventory is available to download and comes with user guides.\n",
    "\n",
    "**Topics:**\n",
    "\n",
    "* Downloading files\n",
    "* Opening Excel files\n",
    "* Using parameters when opening Excel files\n",
    "* When to do things manually vs doing things with code"
   ]
  },
  {
   "cell_type": "markdown",
   "metadata": {},
   "source": [
    "## Automatic downloading `2 points`\n",
    "\n",
    "If you want to download files for Excel, you need to go to [this page](https://apps.fs.usda.gov/fia/datamart/datamart_excel.html) and click on the map. It leads you to a file like `https://apps.fs.usda.gov/fia/datamart/Workbooks/IL.xlsm`. Awful user interface!\n",
    "\n",
    "Instead, I want you to use `requests` and a `for` loop to download all of the states automatically. You might find [this SO answer](https://stackoverflow.com/questions/44699682/how-to-save-a-file-to-a-specific-directory-in-python) useful.\n",
    "\n",
    "*Note that the page says they don't have information for every state.*"
   ]
  },
  {
   "cell_type": "code",
   "execution_count": 78,
   "metadata": {},
   "outputs": [],
   "source": [
    "## import the nessary libaris\n",
    "import requests\n",
    "from bs4 import BeautifulSoup\n",
    "import pandas as pd\n",
    "\n",
    "\n",
    "pd.set_option(\"display.max_colwidth\",500)"
   ]
  },
  {
   "cell_type": "code",
   "execution_count": 79,
   "metadata": {},
   "outputs": [],
   "source": [
    "# To save to a relative path.\n",
    "response = requests.get('https://apps.fs.usda.gov/fia/datamart/datamart_excel.html')  \n",
    "soup = BeautifulSoup(response.text, 'html.parser')\n",
    "\n",
    "# Since there are several links for each state we need to get the different Links to download each file from\n",
    "pages = soup.findAll('area')\n",
    "\n",
    "# Making a list of dictionaries\n",
    "rows=[]\n",
    "for p in pages:\n",
    "    row={}\n",
    "    row['Link']=p.get('href')\n",
    "    row['State']=p.get('title')\n",
    "    rows.append(row)\n",
    "rows\n",
    "\n",
    "# turn it into Dataframe\n",
    "States = pd.DataFrame(rows)\n",
    "\n",
    "# add \"https://apps.fs.usda.gov/fia/datamart\" in front of the first Link column to get the complete url\n",
    "# use + to add a string in front of the whole columns\n",
    "States.Link = 'https://apps.fs.usda.gov/fia/datamart/'+States.Link"
   ]
  },
  {
   "cell_type": "code",
   "execution_count": 83,
   "metadata": {},
   "outputs": [
    {
     "data": {
      "text/plain": [
       "'https://apps.fs.usda.gov/fia/datamart/Workbooks\\\\AS.xlsm'"
      ]
     },
     "execution_count": 83,
     "metadata": {},
     "output_type": "execute_result"
    }
   ],
   "source": [
    "States.Link[0]"
   ]
  },
  {
   "cell_type": "markdown",
   "metadata": {},
   "source": [
    "[Documentation of **open** function](https://docs.python.org/3/library/functions.html#open)"
   ]
  },
  {
   "cell_type": "code",
   "execution_count": 113,
   "metadata": {},
   "outputs": [
    {
     "data": {
      "text/plain": [
       "531"
      ]
     },
     "execution_count": 113,
     "metadata": {},
     "output_type": "execute_result"
    }
   ],
   "source": [
    "# for each row in the dataframe, get me the url in the first column and download the file with the second column as the name\n",
    "\n",
    "#for state in States:\n",
    "url= States.Link[0]\n",
    "# Get the link or url\n",
    "r = requests.get(url,allow_redirects=True)  \n",
    "# Save the content with name\n",
    "open('Forestry Downloads/test.xlsm', 'wb').write(r.content)\n",
    "\n",
    "\n",
    "##### file does not open!! weird\n",
    "## how to download if link is not working???"
   ]
  },
  {
   "cell_type": "markdown",
   "metadata": {},
   "source": [
    "## Reading in the data `3 points`\n",
    "\n",
    "### Read in the data for Virginia\n",
    "\n",
    "**We're interested in sheet `SR004`**, which explains how many acres cover each type of ownership.\n",
    "\n",
    "Read the file in so that it the dataset looks like this:\n",
    "\n",
    "|Forest type group|Total|National Forest|Other federal|State and local|Private|\n",
    "|---|---|---|---|---|---|\n",
    "|Total|16025876|1688425.0|518217.0|657963.0|13161271|\n",
    "|...|...|...|...|...|...|\n",
    "|Nonstocked|81574|0.0|1590.0|0.0|79984|\n",
    "\n",
    "and your index goes up to `15`."
   ]
  },
  {
   "cell_type": "code",
   "execution_count": 141,
   "metadata": {},
   "outputs": [],
   "source": [
    "# import the file from Virgina, go to the sheet name, have NA values, define the colors, how many rows to skip\n",
    "virgina_df = pd.read_excel('Forestry Downloads/VA.xlsm', sheet_name='SR004',na_values=['NA'],usecols=\"A:F\",skiprows=range(11),nrows=16)"
   ]
  },
  {
   "cell_type": "code",
   "execution_count": 144,
   "metadata": {},
   "outputs": [
    {
     "data": {
      "text/html": [
       "<style  type=\"text/css\" >\n",
       "</style><table id=\"T_3180b_\" ><thead>    <tr>        <th class=\"col_heading level0 col0\" >Forest type group</th>        <th class=\"col_heading level0 col1\" >Total</th>        <th class=\"col_heading level0 col2\" >National Forest</th>        <th class=\"col_heading level0 col3\" >Other federal</th>        <th class=\"col_heading level0 col4\" >State and local</th>        <th class=\"col_heading level0 col5\" >Private</th>    </tr></thead><tbody>\n",
       "                <tr>\n",
       "                                <td id=\"T_3180b_row0_col0\" class=\"data row0 col0\" >Total</td>\n",
       "                        <td id=\"T_3180b_row0_col1\" class=\"data row0 col1\" >16025876</td>\n",
       "                        <td id=\"T_3180b_row0_col2\" class=\"data row0 col2\" >1688425</td>\n",
       "                        <td id=\"T_3180b_row0_col3\" class=\"data row0 col3\" >518217</td>\n",
       "                        <td id=\"T_3180b_row0_col4\" class=\"data row0 col4\" >657963</td>\n",
       "                        <td id=\"T_3180b_row0_col5\" class=\"data row0 col5\" >13161271</td>\n",
       "            </tr>\n",
       "            <tr>\n",
       "                                <td id=\"T_3180b_row1_col0\" class=\"data row1 col0\" >White / red / jack pine group</td>\n",
       "                        <td id=\"T_3180b_row1_col1\" class=\"data row1 col1\" >171292</td>\n",
       "                        <td id=\"T_3180b_row1_col2\" class=\"data row1 col2\" >33764</td>\n",
       "                        <td id=\"T_3180b_row1_col3\" class=\"data row1 col3\" >2534</td>\n",
       "                        <td id=\"T_3180b_row1_col4\" class=\"data row1 col4\" >-</td>\n",
       "                        <td id=\"T_3180b_row1_col5\" class=\"data row1 col5\" >134995</td>\n",
       "            </tr>\n",
       "            <tr>\n",
       "                                <td id=\"T_3180b_row2_col0\" class=\"data row2 col0\" >Spruce / fir group</td>\n",
       "                        <td id=\"T_3180b_row2_col1\" class=\"data row2 col1\" >7735</td>\n",
       "                        <td id=\"T_3180b_row2_col2\" class=\"data row2 col2\" >-</td>\n",
       "                        <td id=\"T_3180b_row2_col3\" class=\"data row2 col3\" >-</td>\n",
       "                        <td id=\"T_3180b_row2_col4\" class=\"data row2 col4\" >6188</td>\n",
       "                        <td id=\"T_3180b_row2_col5\" class=\"data row2 col5\" >1547</td>\n",
       "            </tr>\n",
       "            <tr>\n",
       "                                <td id=\"T_3180b_row3_col0\" class=\"data row3 col0\" >Longleaf / slash pine group</td>\n",
       "                        <td id=\"T_3180b_row3_col1\" class=\"data row3 col1\" >10293</td>\n",
       "                        <td id=\"T_3180b_row3_col2\" class=\"data row3 col2\" >-</td>\n",
       "                        <td id=\"T_3180b_row3_col3\" class=\"data row3 col3\" >-</td>\n",
       "                        <td id=\"T_3180b_row3_col4\" class=\"data row3 col4\" >-</td>\n",
       "                        <td id=\"T_3180b_row3_col5\" class=\"data row3 col5\" >10293</td>\n",
       "            </tr>\n",
       "            <tr>\n",
       "                                <td id=\"T_3180b_row4_col0\" class=\"data row4 col0\" >Loblolly / shortleaf pine group</td>\n",
       "                        <td id=\"T_3180b_row4_col1\" class=\"data row4 col1\" >3038306</td>\n",
       "                        <td id=\"T_3180b_row4_col2\" class=\"data row4 col2\" >63540</td>\n",
       "                        <td id=\"T_3180b_row4_col3\" class=\"data row4 col3\" >79536</td>\n",
       "                        <td id=\"T_3180b_row4_col4\" class=\"data row4 col4\" >89038</td>\n",
       "                        <td id=\"T_3180b_row4_col5\" class=\"data row4 col5\" >2806193</td>\n",
       "            </tr>\n",
       "            <tr>\n",
       "                                <td id=\"T_3180b_row5_col0\" class=\"data row5 col0\" >Other eastern softwoods group</td>\n",
       "                        <td id=\"T_3180b_row5_col1\" class=\"data row5 col1\" >75076</td>\n",
       "                        <td id=\"T_3180b_row5_col2\" class=\"data row5 col2\" >-</td>\n",
       "                        <td id=\"T_3180b_row5_col3\" class=\"data row5 col3\" >-</td>\n",
       "                        <td id=\"T_3180b_row5_col4\" class=\"data row5 col4\" >5876</td>\n",
       "                        <td id=\"T_3180b_row5_col5\" class=\"data row5 col5\" >69201</td>\n",
       "            </tr>\n",
       "            <tr>\n",
       "                                <td id=\"T_3180b_row6_col0\" class=\"data row6 col0\" >Exotic softwoods group</td>\n",
       "                        <td id=\"T_3180b_row6_col1\" class=\"data row6 col1\" >4157</td>\n",
       "                        <td id=\"T_3180b_row6_col2\" class=\"data row6 col2\" >-</td>\n",
       "                        <td id=\"T_3180b_row6_col3\" class=\"data row6 col3\" >-</td>\n",
       "                        <td id=\"T_3180b_row6_col4\" class=\"data row6 col4\" >-</td>\n",
       "                        <td id=\"T_3180b_row6_col5\" class=\"data row6 col5\" >4157</td>\n",
       "            </tr>\n",
       "            <tr>\n",
       "                                <td id=\"T_3180b_row7_col0\" class=\"data row7 col0\" >Oak / pine group</td>\n",
       "                        <td id=\"T_3180b_row7_col1\" class=\"data row7 col1\" >1649711</td>\n",
       "                        <td id=\"T_3180b_row7_col2\" class=\"data row7 col2\" >140950</td>\n",
       "                        <td id=\"T_3180b_row7_col3\" class=\"data row7 col3\" >58413</td>\n",
       "                        <td id=\"T_3180b_row7_col4\" class=\"data row7 col4\" >53515</td>\n",
       "                        <td id=\"T_3180b_row7_col5\" class=\"data row7 col5\" >1396832</td>\n",
       "            </tr>\n",
       "            <tr>\n",
       "                                <td id=\"T_3180b_row8_col0\" class=\"data row8 col0\" >Oak / hickory group</td>\n",
       "                        <td id=\"T_3180b_row8_col1\" class=\"data row8 col1\" >9755134</td>\n",
       "                        <td id=\"T_3180b_row8_col2\" class=\"data row8 col2\" >1375367</td>\n",
       "                        <td id=\"T_3180b_row8_col3\" class=\"data row8 col3\" >314345</td>\n",
       "                        <td id=\"T_3180b_row8_col4\" class=\"data row8 col4\" >405917</td>\n",
       "                        <td id=\"T_3180b_row8_col5\" class=\"data row8 col5\" >7659506</td>\n",
       "            </tr>\n",
       "            <tr>\n",
       "                                <td id=\"T_3180b_row9_col0\" class=\"data row9 col0\" >Oak / gum / cypress group</td>\n",
       "                        <td id=\"T_3180b_row9_col1\" class=\"data row9 col1\" >373717</td>\n",
       "                        <td id=\"T_3180b_row9_col2\" class=\"data row9 col2\" >2939</td>\n",
       "                        <td id=\"T_3180b_row9_col3\" class=\"data row9 col3\" >40461</td>\n",
       "                        <td id=\"T_3180b_row9_col4\" class=\"data row9 col4\" >21746</td>\n",
       "                        <td id=\"T_3180b_row9_col5\" class=\"data row9 col5\" >308570</td>\n",
       "            </tr>\n",
       "            <tr>\n",
       "                                <td id=\"T_3180b_row10_col0\" class=\"data row10 col0\" >Elm / ash / cottonwood group</td>\n",
       "                        <td id=\"T_3180b_row10_col1\" class=\"data row10 col1\" >423595</td>\n",
       "                        <td id=\"T_3180b_row10_col2\" class=\"data row10 col2\" >-</td>\n",
       "                        <td id=\"T_3180b_row10_col3\" class=\"data row10 col3\" >15497</td>\n",
       "                        <td id=\"T_3180b_row10_col4\" class=\"data row10 col4\" >43131</td>\n",
       "                        <td id=\"T_3180b_row10_col5\" class=\"data row10 col5\" >364967</td>\n",
       "            </tr>\n",
       "            <tr>\n",
       "                                <td id=\"T_3180b_row11_col0\" class=\"data row11 col0\" >Maple / beech / birch group</td>\n",
       "                        <td id=\"T_3180b_row11_col1\" class=\"data row11 col1\" >349927</td>\n",
       "                        <td id=\"T_3180b_row11_col2\" class=\"data row11 col2\" >63965</td>\n",
       "                        <td id=\"T_3180b_row11_col3\" class=\"data row11 col3\" >-</td>\n",
       "                        <td id=\"T_3180b_row11_col4\" class=\"data row11 col4\" >27066</td>\n",
       "                        <td id=\"T_3180b_row11_col5\" class=\"data row11 col5\" >258896</td>\n",
       "            </tr>\n",
       "            <tr>\n",
       "                                <td id=\"T_3180b_row12_col0\" class=\"data row12 col0\" >Aspen / birch group</td>\n",
       "                        <td id=\"T_3180b_row12_col1\" class=\"data row12 col1\" >1460</td>\n",
       "                        <td id=\"T_3180b_row12_col2\" class=\"data row12 col2\" >-</td>\n",
       "                        <td id=\"T_3180b_row12_col3\" class=\"data row12 col3\" >-</td>\n",
       "                        <td id=\"T_3180b_row12_col4\" class=\"data row12 col4\" >-</td>\n",
       "                        <td id=\"T_3180b_row12_col5\" class=\"data row12 col5\" >1460</td>\n",
       "            </tr>\n",
       "            <tr>\n",
       "                                <td id=\"T_3180b_row13_col0\" class=\"data row13 col0\" >Other hardwoods group</td>\n",
       "                        <td id=\"T_3180b_row13_col1\" class=\"data row13 col1\" >63921</td>\n",
       "                        <td id=\"T_3180b_row13_col2\" class=\"data row13 col2\" >7900</td>\n",
       "                        <td id=\"T_3180b_row13_col3\" class=\"data row13 col3\" >5841</td>\n",
       "                        <td id=\"T_3180b_row13_col4\" class=\"data row13 col4\" >5486</td>\n",
       "                        <td id=\"T_3180b_row13_col5\" class=\"data row13 col5\" >44694</td>\n",
       "            </tr>\n",
       "            <tr>\n",
       "                                <td id=\"T_3180b_row14_col0\" class=\"data row14 col0\" >Exotic hardwoods group</td>\n",
       "                        <td id=\"T_3180b_row14_col1\" class=\"data row14 col1\" >19978</td>\n",
       "                        <td id=\"T_3180b_row14_col2\" class=\"data row14 col2\" >-</td>\n",
       "                        <td id=\"T_3180b_row14_col3\" class=\"data row14 col3\" >-</td>\n",
       "                        <td id=\"T_3180b_row14_col4\" class=\"data row14 col4\" >-</td>\n",
       "                        <td id=\"T_3180b_row14_col5\" class=\"data row14 col5\" >19978</td>\n",
       "            </tr>\n",
       "            <tr>\n",
       "                                <td id=\"T_3180b_row15_col0\" class=\"data row15 col0\" >Nonstocked</td>\n",
       "                        <td id=\"T_3180b_row15_col1\" class=\"data row15 col1\" >81574</td>\n",
       "                        <td id=\"T_3180b_row15_col2\" class=\"data row15 col2\" >-</td>\n",
       "                        <td id=\"T_3180b_row15_col3\" class=\"data row15 col3\" >1590</td>\n",
       "                        <td id=\"T_3180b_row15_col4\" class=\"data row15 col4\" >-</td>\n",
       "                        <td id=\"T_3180b_row15_col5\" class=\"data row15 col5\" >79984</td>\n",
       "            </tr>\n",
       "    </tbody></table>"
      ],
      "text/plain": [
       "<pandas.io.formats.style.Styler at 0x1df4ebff0a0>"
      ]
     },
     "execution_count": 144,
     "metadata": {},
     "output_type": "execute_result"
    }
   ],
   "source": [
    "virgina_df.style.hide_index()"
   ]
  },
  {
   "cell_type": "markdown",
   "metadata": {},
   "source": [
    "### Read in the data for South Dakota\n",
    "\n",
    "You'll have fewer rows in this dataset than for Virginia."
   ]
  },
  {
   "cell_type": "code",
   "execution_count": 142,
   "metadata": {},
   "outputs": [],
   "source": [
    "# import the file from Virgina, go to the sheet name, have NA values, define the colors, how many rows to skip\n",
    "sd_df = pd.read_excel('Forestry Downloads/SD.xlsm', sheet_name='SR004',na_values=['NA'],usecols=\"A:F\",skiprows=range(11),nrows=14)"
   ]
  },
  {
   "cell_type": "code",
   "execution_count": 143,
   "metadata": {},
   "outputs": [
    {
     "data": {
      "text/html": [
       "<style  type=\"text/css\" >\n",
       "</style><table id=\"T_97893_\" ><thead>    <tr>        <th class=\"col_heading level0 col0\" >Forest type group</th>        <th class=\"col_heading level0 col1\" >Total</th>        <th class=\"col_heading level0 col2\" >National Forest</th>        <th class=\"col_heading level0 col3\" >Other federal</th>        <th class=\"col_heading level0 col4\" >State and local</th>        <th class=\"col_heading level0 col5\" >Private</th>    </tr></thead><tbody>\n",
       "                <tr>\n",
       "                                <td id=\"T_97893_row0_col0\" class=\"data row0 col0\" >Total</td>\n",
       "                        <td id=\"T_97893_row0_col1\" class=\"data row0 col1\" >1897358</td>\n",
       "                        <td id=\"T_97893_row0_col2\" class=\"data row0 col2\" >993588</td>\n",
       "                        <td id=\"T_97893_row0_col3\" class=\"data row0 col3\" >60164</td>\n",
       "                        <td id=\"T_97893_row0_col4\" class=\"data row0 col4\" >96499</td>\n",
       "                        <td id=\"T_97893_row0_col5\" class=\"data row0 col5\" >747106</td>\n",
       "            </tr>\n",
       "            <tr>\n",
       "                                <td id=\"T_97893_row1_col0\" class=\"data row1 col0\" >White / red / jack pine group</td>\n",
       "                        <td id=\"T_97893_row1_col1\" class=\"data row1 col1\" >6098</td>\n",
       "                        <td id=\"T_97893_row1_col2\" class=\"data row1 col2\" >-</td>\n",
       "                        <td id=\"T_97893_row1_col3\" class=\"data row1 col3\" >-</td>\n",
       "                        <td id=\"T_97893_row1_col4\" class=\"data row1 col4\" >-</td>\n",
       "                        <td id=\"T_97893_row1_col5\" class=\"data row1 col5\" >6098</td>\n",
       "            </tr>\n",
       "            <tr>\n",
       "                                <td id=\"T_97893_row2_col0\" class=\"data row2 col0\" >Spruce / fir group</td>\n",
       "                        <td id=\"T_97893_row2_col1\" class=\"data row2 col1\" >85957</td>\n",
       "                        <td id=\"T_97893_row2_col2\" class=\"data row2 col2\" >60844</td>\n",
       "                        <td id=\"T_97893_row2_col3\" class=\"data row2 col3\" >17348</td>\n",
       "                        <td id=\"T_97893_row2_col4\" class=\"data row2 col4\" >-</td>\n",
       "                        <td id=\"T_97893_row2_col5\" class=\"data row2 col5\" >7765</td>\n",
       "            </tr>\n",
       "            <tr>\n",
       "                                <td id=\"T_97893_row3_col0\" class=\"data row3 col0\" >Other eastern softwoods group</td>\n",
       "                        <td id=\"T_97893_row3_col1\" class=\"data row3 col1\" >52741</td>\n",
       "                        <td id=\"T_97893_row3_col2\" class=\"data row3 col2\" >-</td>\n",
       "                        <td id=\"T_97893_row3_col3\" class=\"data row3 col3\" >6331</td>\n",
       "                        <td id=\"T_97893_row3_col4\" class=\"data row3 col4\" >-</td>\n",
       "                        <td id=\"T_97893_row3_col5\" class=\"data row3 col5\" >46411</td>\n",
       "            </tr>\n",
       "            <tr>\n",
       "                                <td id=\"T_97893_row4_col0\" class=\"data row4 col0\" >Pinyon / juniper group</td>\n",
       "                        <td id=\"T_97893_row4_col1\" class=\"data row4 col1\" >71273</td>\n",
       "                        <td id=\"T_97893_row4_col2\" class=\"data row4 col2\" >17366</td>\n",
       "                        <td id=\"T_97893_row4_col3\" class=\"data row4 col3\" >5920</td>\n",
       "                        <td id=\"T_97893_row4_col4\" class=\"data row4 col4\" >-</td>\n",
       "                        <td id=\"T_97893_row4_col5\" class=\"data row4 col5\" >47987</td>\n",
       "            </tr>\n",
       "            <tr>\n",
       "                                <td id=\"T_97893_row5_col0\" class=\"data row5 col0\" >Ponderosa pine group</td>\n",
       "                        <td id=\"T_97893_row5_col1\" class=\"data row5 col1\" >1023191</td>\n",
       "                        <td id=\"T_97893_row5_col2\" class=\"data row5 col2\" >699839</td>\n",
       "                        <td id=\"T_97893_row5_col3\" class=\"data row5 col3\" >4748</td>\n",
       "                        <td id=\"T_97893_row5_col4\" class=\"data row5 col4\" >63442</td>\n",
       "                        <td id=\"T_97893_row5_col5\" class=\"data row5 col5\" >255163</td>\n",
       "            </tr>\n",
       "            <tr>\n",
       "                                <td id=\"T_97893_row6_col0\" class=\"data row6 col0\" >Oak / pine group</td>\n",
       "                        <td id=\"T_97893_row6_col1\" class=\"data row6 col1\" >9775</td>\n",
       "                        <td id=\"T_97893_row6_col2\" class=\"data row6 col2\" >-</td>\n",
       "                        <td id=\"T_97893_row6_col3\" class=\"data row6 col3\" >-</td>\n",
       "                        <td id=\"T_97893_row6_col4\" class=\"data row6 col4\" >4340</td>\n",
       "                        <td id=\"T_97893_row6_col5\" class=\"data row6 col5\" >5435</td>\n",
       "            </tr>\n",
       "            <tr>\n",
       "                                <td id=\"T_97893_row7_col0\" class=\"data row7 col0\" >Oak / hickory group</td>\n",
       "                        <td id=\"T_97893_row7_col1\" class=\"data row7 col1\" >156796</td>\n",
       "                        <td id=\"T_97893_row7_col2\" class=\"data row7 col2\" >24422</td>\n",
       "                        <td id=\"T_97893_row7_col3\" class=\"data row7 col3\" >5978</td>\n",
       "                        <td id=\"T_97893_row7_col4\" class=\"data row7 col4\" >7412</td>\n",
       "                        <td id=\"T_97893_row7_col5\" class=\"data row7 col5\" >118985</td>\n",
       "            </tr>\n",
       "            <tr>\n",
       "                                <td id=\"T_97893_row8_col0\" class=\"data row8 col0\" >Elm / ash / cottonwood group</td>\n",
       "                        <td id=\"T_97893_row8_col1\" class=\"data row8 col1\" >140167</td>\n",
       "                        <td id=\"T_97893_row8_col2\" class=\"data row8 col2\" >-</td>\n",
       "                        <td id=\"T_97893_row8_col3\" class=\"data row8 col3\" >-</td>\n",
       "                        <td id=\"T_97893_row8_col4\" class=\"data row8 col4\" >12700</td>\n",
       "                        <td id=\"T_97893_row8_col5\" class=\"data row8 col5\" >127468</td>\n",
       "            </tr>\n",
       "            <tr>\n",
       "                                <td id=\"T_97893_row9_col0\" class=\"data row9 col0\" >Maple / beech / birch group</td>\n",
       "                        <td id=\"T_97893_row9_col1\" class=\"data row9 col1\" >8449</td>\n",
       "                        <td id=\"T_97893_row9_col2\" class=\"data row9 col2\" >-</td>\n",
       "                        <td id=\"T_97893_row9_col3\" class=\"data row9 col3\" >-</td>\n",
       "                        <td id=\"T_97893_row9_col4\" class=\"data row9 col4\" >-</td>\n",
       "                        <td id=\"T_97893_row9_col5\" class=\"data row9 col5\" >8449</td>\n",
       "            </tr>\n",
       "            <tr>\n",
       "                                <td id=\"T_97893_row10_col0\" class=\"data row10 col0\" >Aspen / birch group</td>\n",
       "                        <td id=\"T_97893_row10_col1\" class=\"data row10 col1\" >62677</td>\n",
       "                        <td id=\"T_97893_row10_col2\" class=\"data row10 col2\" >58830</td>\n",
       "                        <td id=\"T_97893_row10_col3\" class=\"data row10 col3\" >-</td>\n",
       "                        <td id=\"T_97893_row10_col4\" class=\"data row10 col4\" >-</td>\n",
       "                        <td id=\"T_97893_row10_col5\" class=\"data row10 col5\" >3847</td>\n",
       "            </tr>\n",
       "            <tr>\n",
       "                                <td id=\"T_97893_row11_col0\" class=\"data row11 col0\" >Other hardwoods group</td>\n",
       "                        <td id=\"T_97893_row11_col1\" class=\"data row11 col1\" >56337</td>\n",
       "                        <td id=\"T_97893_row11_col2\" class=\"data row11 col2\" >35254</td>\n",
       "                        <td id=\"T_97893_row11_col3\" class=\"data row11 col3\" >-</td>\n",
       "                        <td id=\"T_97893_row11_col4\" class=\"data row11 col4\" >-</td>\n",
       "                        <td id=\"T_97893_row11_col5\" class=\"data row11 col5\" >21083</td>\n",
       "            </tr>\n",
       "            <tr>\n",
       "                                <td id=\"T_97893_row12_col0\" class=\"data row12 col0\" >Exotic hardwoods group</td>\n",
       "                        <td id=\"T_97893_row12_col1\" class=\"data row12 col1\" >30375</td>\n",
       "                        <td id=\"T_97893_row12_col2\" class=\"data row12 col2\" >-</td>\n",
       "                        <td id=\"T_97893_row12_col3\" class=\"data row12 col3\" >-</td>\n",
       "                        <td id=\"T_97893_row12_col4\" class=\"data row12 col4\" >-</td>\n",
       "                        <td id=\"T_97893_row12_col5\" class=\"data row12 col5\" >30375</td>\n",
       "            </tr>\n",
       "            <tr>\n",
       "                                <td id=\"T_97893_row13_col0\" class=\"data row13 col0\" >Nonstocked</td>\n",
       "                        <td id=\"T_97893_row13_col1\" class=\"data row13 col1\" >193520</td>\n",
       "                        <td id=\"T_97893_row13_col2\" class=\"data row13 col2\" >97034</td>\n",
       "                        <td id=\"T_97893_row13_col3\" class=\"data row13 col3\" >19839</td>\n",
       "                        <td id=\"T_97893_row13_col4\" class=\"data row13 col4\" >8606</td>\n",
       "                        <td id=\"T_97893_row13_col5\" class=\"data row13 col5\" >68041</td>\n",
       "            </tr>\n",
       "    </tbody></table>"
      ],
      "text/plain": [
       "<pandas.io.formats.style.Styler at 0x1df4edcbdc0>"
      ]
     },
     "execution_count": 143,
     "metadata": {},
     "output_type": "execute_result"
    }
   ],
   "source": [
    "sd_df.style.hide_index()"
   ]
  },
  {
   "cell_type": "markdown",
   "metadata": {},
   "source": [
    "# Calculations `1 point`\n",
    "\n",
    "## What percent of forested land is a \"National Forest\" in South Dakota vs Virginia?\n",
    "\n",
    "You can do this calculation manually. Pay special attention to column names."
   ]
  },
  {
   "cell_type": "code",
   "execution_count": 158,
   "metadata": {},
   "outputs": [
    {
     "name": "stdout",
     "output_type": "stream",
     "text": [
      "In Virgina 11.0 % of the forested land is a National Forest and in South Dakota it is 52.0 %\n"
     ]
    }
   ],
   "source": [
    "# select with iloc[row number, column number]\n",
    "\n",
    "print('In Virgina',(virgina_df.iloc[0, 2]/virgina_df.iloc[0, 1]).round(2)*100,'% of the forested land is a National Forest and in South Dakota it is',(sd_df.iloc[0, 2]/sd_df.iloc[0, 1]).round(2)*100,'%')"
   ]
  },
  {
   "cell_type": "markdown",
   "metadata": {},
   "source": [
    "## What percent of forested land is privately owned in SD vs VA?"
   ]
  },
  {
   "cell_type": "code",
   "execution_count": 159,
   "metadata": {},
   "outputs": [
    {
     "name": "stdout",
     "output_type": "stream",
     "text": [
      "In Virgina 82.0 % of the forested land is privately owned and in South Dakota it is 39.0 %\n"
     ]
    }
   ],
   "source": [
    "# select with iloc[row number, column number]\n",
    "\n",
    "print('In Virgina',(virgina_df.iloc[0, 5]/virgina_df.iloc[0, 1]).round(2)*100,'% of the forested land is privately owned and in South Dakota it is',(sd_df.iloc[0, 5]/sd_df.iloc[0, 1]).round(2)*100,'%')"
   ]
  },
  {
   "cell_type": "markdown",
   "metadata": {},
   "source": [
    "## Do the calculation for private ownership of all forests in South Dakota using only one line, and without typing the actual numbers `1 point`\n",
    "\n",
    "Tip: `df.loc[0]` will be your friend"
   ]
  },
  {
   "cell_type": "code",
   "execution_count": 168,
   "metadata": {},
   "outputs": [
    {
     "data": {
      "text/plain": [
       "0.39"
      ]
     },
     "execution_count": 168,
     "metadata": {},
     "output_type": "execute_result"
    }
   ],
   "source": [
    "# You can use select the rows with the .\n",
    "\n",
    "(sd_df.loc[0].Private/sd_df.loc[0].Total).round(2)"
   ]
  },
  {
   "cell_type": "markdown",
   "metadata": {},
   "source": [
    "## Using the files you downloaded, calculate the private ownership rate for all forested land in each state `3 points`\n",
    "\n",
    "> Tip: Use a for loop"
   ]
  },
  {
   "cell_type": "code",
   "execution_count": null,
   "metadata": {},
   "outputs": [],
   "source": [
    "# need the names"
   ]
  }
 ],
 "metadata": {
  "kernelspec": {
   "display_name": "Python 3",
   "language": "python",
   "name": "python3"
  },
  "language_info": {
   "codemirror_mode": {
    "name": "ipython",
    "version": 3
   },
   "file_extension": ".py",
   "mimetype": "text/x-python",
   "name": "python",
   "nbconvert_exporter": "python",
   "pygments_lexer": "ipython3",
   "version": "3.8.6"
  }
 },
 "nbformat": 4,
 "nbformat_minor": 4
}
